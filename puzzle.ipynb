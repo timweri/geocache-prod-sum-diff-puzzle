{
 "cells": [
  {
   "cell_type": "markdown",
   "metadata": {},
   "source": [
    "## Problem\n",
    "\n",
    "**Paula**, **Sue** and **Daisy** are mathematical geniuses. They can do any number of calculations in their head instantly. One day, they're given the task of figuring out two numbers. Those two numbers are in the range between $1$ and $1000$ (inclusive) and they're whole numbers (no decimal numbers). Both numbers can be the same too.\n",
    "\n",
    "Paula is told the product of both numbers (one number multiplied with the other), Sue is told the sum of both numbers and Daisy is told the difference between the two numbers (one number substracted from the other). However, they're not allowed to tell those numbers to each other.\n",
    "\n",
    "Then, the following conversation ensues:\n",
    "\n",
    "> Paula: I don't know the two numbers.\n",
    ">\n",
    "> Sue: You don't need to tell me that, I've known that already.\n",
    ">\n",
    "> Paula: Ah, in that case, I know the numbers now.\n",
    ">\n",
    "> Sue: Ok, I know the numbers now too.\n",
    ">\n",
    "> Daisy: I still don't know the numbers. I can guess one number, which is likely to be one of the two numbers, but I don't know for sure.\n",
    ">\n",
    "> Paula: I know which number you're thinking of, but this one is wrong. It's not one of the two numbers.\n",
    ">\n",
    "> Daisy: Ah, then I know the numbers now too.\n",
    "\n",
    "And that's it! \n",
    "\n",
    "Believe it or not, it's actually possible to figure out the two numbers. There's several different approaches to solving this, so I cannot give any hints, as one way may be easier for some people but harder for others, and vice versa."
   ]
  },
  {
   "cell_type": "markdown",
   "metadata": {},
   "source": [
    "Let $x$ and $y$ be the two numbers we want. To eliminate the symmetric solutions, we assume $x \\leq y$.\n",
    "\n",
    "Let $P = xy$, $S = x + y$, and $D = x - y$."
   ]
  },
  {
   "cell_type": "markdown",
   "metadata": {},
   "source": [
    "Since Paupla doesn't know the number, there should be at least 2 possible $(x,y)$ that can produce $P$. Let's find the set of possible products."
   ]
  },
  {
   "cell_type": "code",
   "execution_count": 1,
   "metadata": {},
   "outputs": [],
   "source": [
    "import collections"
   ]
  },
  {
   "cell_type": "code",
   "execution_count": 2,
   "metadata": {},
   "outputs": [
    {
     "name": "stdout",
     "output_type": "stream",
     "text": [
      "103360\n",
      "144723\n"
     ]
    }
   ],
   "source": [
    "possible_products = set()\n",
    "impossible_products = set()\n",
    "\n",
    "temp_m = collections.defaultdict(int)\n",
    "for x in range(1, 1001):\n",
    "    for y in range(x, 1001):\n",
    "        temp_m[x*y] += 1\n",
    "        \n",
    "for prod in temp_m.keys():\n",
    "    if temp_m[prod] >= 2:\n",
    "        possible_products.add(prod)\n",
    "    if temp_m[prod] == 1:\n",
    "        impossible_products.add(prod)\n",
    "\n",
    "print(len(possible_products))\n",
    "print(len(impossible_products))"
   ]
  },
  {
   "cell_type": "markdown",
   "metadata": {},
   "source": [
    "Since Sue already knows from $S$ that Paupla doesn't know the two numbers, every combination of $x$ and $y$ that sums to $S$ cannot give a product that can uniquely tells Paula what $x$ and $y$ are. Based on this, we will search for the possible sums."
   ]
  },
  {
   "cell_type": "code",
   "execution_count": 3,
   "metadata": {},
   "outputs": [
    {
     "name": "stdout",
     "output_type": "stream",
     "text": [
      "235\n",
      "1764\n"
     ]
    }
   ],
   "source": [
    "possible_sums = set()\n",
    "impossible_sums = set()\n",
    "\n",
    "for s in range(2, 2001):\n",
    "    possible = True\n",
    "    for x in range(1, s):\n",
    "        y = s - x\n",
    "        if x*y in impossible_products:\n",
    "            possible = False\n",
    "            break\n",
    "    if possible:\n",
    "        possible_sums.add(s)\n",
    "    else:\n",
    "        impossible_sums.add(s)\n",
    "\n",
    "print(len(possible_sums))\n",
    "print(len(impossible_sums))"
   ]
  },
  {
   "cell_type": "markdown",
   "metadata": {},
   "source": [
    "Since Paula can deduce $(x,y)$ from knowing that every combination of $x$ and $y$ that sums to $S$ cannot give a unique product, there must be only one possible $S$ where $P$ is possible and $P$ is not unique. Let's search for this $P$ and $S$."
   ]
  },
  {
   "cell_type": "code",
   "execution_count": 4,
   "metadata": {},
   "outputs": [],
   "source": [
    "p_s_possibility = set()\n",
    "for x in range(1, 1001):\n",
    "    for y in range(x, 1001):\n",
    "        p_s_possibility.add((x*y, x+y))"
   ]
  },
  {
   "cell_type": "code",
   "execution_count": 5,
   "metadata": {},
   "outputs": [
    {
     "name": "stdout",
     "output_type": "stream",
     "text": [
      "6984\n"
     ]
    }
   ],
   "source": [
    "nice_ps = []\n",
    "\n",
    "for p in possible_products:\n",
    "    count = 0\n",
    "    nice_s = None\n",
    "    \n",
    "    for s in possible_sums:\n",
    "        if (p, s) in p_s_possibility:\n",
    "            count += 1\n",
    "            nice_s = s\n",
    "        \n",
    "    if count == 1:\n",
    "        nice_ps.append((p, nice_s))\n",
    "\n",
    "print(len(nice_ps))"
   ]
  },
  {
   "cell_type": "markdown",
   "metadata": {},
   "source": [
    "Since Sue can deduce $(x,y)$ from knowing that there must be only one possible $S$ where $P$ is possible and $P$ is not unique, we must also have that there must be only one possible $P$ where $S$ is possible. Let's search for $P$ and $S$ again with this new constraint."
   ]
  },
  {
   "cell_type": "markdown",
   "metadata": {},
   "source": [
    "We first can reduce the set of possible products and sums."
   ]
  },
  {
   "cell_type": "code",
   "execution_count": 6,
   "metadata": {},
   "outputs": [
    {
     "name": "stdout",
     "output_type": "stream",
     "text": [
      "6984\n",
      "215\n"
     ]
    }
   ],
   "source": [
    "possible_products = set()\n",
    "possible_sums = set()\n",
    "for p, s in nice_ps:\n",
    "    possible_products.add(p)\n",
    "    possible_sums.add(s)\n",
    "    \n",
    "print(len(possible_products))\n",
    "print(len(possible_sums))"
   ]
  },
  {
   "cell_type": "code",
   "execution_count": 7,
   "metadata": {},
   "outputs": [
    {
     "name": "stdout",
     "output_type": "stream",
     "text": [
      "27\n"
     ]
    }
   ],
   "source": [
    "nice_ps = []\n",
    "for s in possible_sums:\n",
    "    count = 0\n",
    "    nice_p = None\n",
    "    \n",
    "    for p in possible_products:\n",
    "        if (p, s) in p_s_possibility:\n",
    "            count += 1\n",
    "            nice_p = p\n",
    "    \n",
    "    if count == 1:\n",
    "        nice_ps.append((nice_p, s))\n",
    "\n",
    "print(len(nice_ps))"
   ]
  },
  {
   "cell_type": "markdown",
   "metadata": {},
   "source": [
    "Now that we have reduced our search space to reasonable size, let's list the possible combinations of $(x,y)$."
   ]
  },
  {
   "cell_type": "code",
   "execution_count": 8,
   "metadata": {},
   "outputs": [
    {
     "name": "stdout",
     "output_type": "stream",
     "text": [
      "[(1, 4)] -> (4, 5)\n",
      "[(1, 8)] -> (8, 9)\n",
      "[(1, 9)] -> (9, 10)\n",
      "[(1, 15)] -> (15, 16)\n",
      "[(11, 16)] -> (176, 27)\n",
      "[(1, 32)] -> (32, 33)\n",
      "[(8, 31)] -> (248, 39)\n",
      "[(13, 32)] -> (416, 45)\n",
      "[(16, 37)] -> (592, 53)\n",
      "[(23, 32)] -> (736, 55)\n",
      "[(16, 43)] -> (688, 59)\n",
      "[(29, 32)] -> (928, 61)\n",
      "[(32, 41)] -> (1312, 73)\n",
      "[(16, 61)] -> (976, 77)\n",
      "[(32, 53)] -> (1696, 85)\n",
      "[(16, 73)] -> (1168, 89)\n",
      "[(8, 89)] -> (712, 97)\n",
      "[(37, 64)] -> (2368, 101)\n",
      "[(32, 71)] -> (2272, 103)\n",
      "[(43, 64)] -> (2752, 107)\n",
      "[(8, 101)] -> (808, 109)\n",
      "[(16, 97)] -> (1552, 113)\n",
      "[(16, 103)] -> (1648, 119)\n",
      "[(56, 71)] -> (3976, 127)\n",
      "[(32, 101)] -> (3232, 133)\n",
      "[(64, 73)] -> (4672, 137)\n",
      "[(40, 109)] -> (4360, 149)\n"
     ]
    }
   ],
   "source": [
    "nice_xys = set()\n",
    "for (p, s) in nice_ps:\n",
    "    xys = []\n",
    "    for x in range(1, 1001):\n",
    "        for y in range(x, 1001):\n",
    "            if x*y == p and x+y == s:\n",
    "                xys.append((x,y))\n",
    "    \n",
    "    nice_xys.update(xys)\n",
    "    \n",
    "    print(f\"{xys} -> {(p, s)}\")"
   ]
  },
  {
   "cell_type": "markdown",
   "metadata": {},
   "source": [
    "Since Daisy is also a genius, her search space should be a subset of what we have here. However, she also knows $D$, which is insufficient to help her pinpoint down the unique option. This means there are multiple options of $(x,y)$ giving the same $D$. Let's eliminate those that have unique $D$."
   ]
  },
  {
   "cell_type": "code",
   "execution_count": 9,
   "metadata": {},
   "outputs": [
    {
     "name": "stdout",
     "output_type": "stream",
     "text": [
      "(37, 64) -> (2368, 101, -27)\n",
      "(16, 43) -> (688, 59, -27)\n",
      "(32, 53) -> (1696, 85, -21)\n",
      "(43, 64) -> (2752, 107, -21)\n",
      "(16, 37) -> (592, 53, -21)\n",
      "(16, 97) -> (1552, 113, -81)\n",
      "(8, 89) -> (712, 97, -81)\n",
      "(23, 32) -> (736, 55, -9)\n",
      "(64, 73) -> (4672, 137, -9)\n",
      "(32, 41) -> (1312, 73, -9)\n",
      "(32, 101) -> (3232, 133, -69)\n",
      "(40, 109) -> (4360, 149, -69)\n",
      "(1, 4) -> (4, 5, -3)\n",
      "(29, 32) -> (928, 61, -3)\n"
     ]
    }
   ],
   "source": [
    "diff_count = collections.defaultdict(int)\n",
    "nicer_xys = set()\n",
    "nice_diffs = set()\n",
    "for x, y in nice_xys:\n",
    "    diff_count[x - y] += 1\n",
    "\n",
    "for x, y in nice_xys:\n",
    "    if diff_count[x-y] > 1:\n",
    "        nice_diffs.add(x-y)\n",
    "        nicer_xys.add((x,y))\n",
    "\n",
    "for diff in nice_diffs:\n",
    "    for x, y in nicer_xys:\n",
    "        if x - y == diff:\n",
    "            print(f\"({x}, {y}) -> ({x*y}, {x+y}, {x-y})\")"
   ]
  },
  {
   "cell_type": "markdown",
   "metadata": {},
   "source": [
    "Paula should also be able to deduce the search space that Daisy can see. Since Paula knows the numbers, she knows exactly what options Daisy sees. Since Daisy claims that one number is likely to be one of the two numbers, this mean Daisy's guess has to appear in all but one option that has $D$.\n",
    "\n",
    "By eyeballing, looking at $D = -9$. There are 2 options with one of the numbers being 32. None of the other $D$ has this property. This makes 32 seems like a more likely answer to Daisy. So when 32 is eliminated, the only option left is $(64,73)$, which should be our $(x,y)$."
   ]
  },
  {
   "cell_type": "markdown",
   "metadata": {},
   "source": [
    "Let's geocheck it :)"
   ]
  },
  {
   "cell_type": "code",
   "execution_count": 14,
   "metadata": {},
   "outputs": [
    {
     "name": "stdout",
     "output_type": "stream",
     "text": [
      "392 461\n"
     ]
    }
   ],
   "source": [
    "A,B,C,D=0,0,6,4\n",
    "E,F,G,H=0,0,7,3\n",
    "\n",
    "N = G*G*G + B*D + C*E*F + (C+A)*G + G\n",
    "W = C*C*D*H + (B+D)*(E+G) + D - H\n",
    "\n",
    "print(N,W) #????"
   ]
  }
 ],
 "metadata": {
  "kernelspec": {
   "display_name": "Python 3",
   "language": "python",
   "name": "python3"
  },
  "language_info": {
   "codemirror_mode": {
    "name": "ipython",
    "version": 3
   },
   "file_extension": ".py",
   "mimetype": "text/x-python",
   "name": "python",
   "nbconvert_exporter": "python",
   "pygments_lexer": "ipython3",
   "version": "3.8.5"
  }
 },
 "nbformat": 4,
 "nbformat_minor": 4
}
