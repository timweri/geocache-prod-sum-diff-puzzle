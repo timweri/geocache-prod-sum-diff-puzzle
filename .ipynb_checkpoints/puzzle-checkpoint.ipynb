{
 "cells": [
  {
   "cell_type": "markdown",
   "metadata": {},
   "source": [
    "## Problem\n",
    "\n",
    "**Paula**, **Sue** and **Daisy** are mathematical geniuses. They can do any number of calculations in their head instantly. One day, they're given the task of figuring out two numbers. Those two numbers are in the range between $1$ and $1000$ (inclusive) and they're whole numbers (no decimal numbers). Both numbers can be the same too.\n",
    "\n",
    "Paula is told the product of both numbers (one number multiplied with the other), Sue is told the sum of both numbers and Daisy is told the difference between the two numbers (one number substracted from the other). However, they're not allowed to tell those numbers to each other.\n",
    "\n",
    "Then, the following conversation ensues:\n",
    "\n",
    "> Paula: I don't know the two numbers.\n",
    ">\n",
    "> Sue: You don't need to tell me that, I've known that already.\n",
    ">\n",
    "> Paula: Ah, in that case, I know the numbers now.\n",
    ">\n",
    "> Sue: Ok, I know the numbers now too.\n",
    ">\n",
    "> Daisy: I still don't know the numbers. I can guess one number, which is likely to be one of the two numbers, but I don't know for sure.\n",
    ">\n",
    "> Paula: I know which number you're thinking of, but this one is wrong. It's not one of the two numbers.\n",
    ">\n",
    "> Daisy: Ah, then I know the numbers now too.\n",
    "\n",
    "And that's it! \n",
    "\n",
    "Believe it or not, it's actually possible to figure out the two numbers. There's several different approaches to solving this, so I cannot give any hints, as one way may be easier for some people but harder for others, and vice versa."
   ]
  },
  {
   "cell_type": "markdown",
   "metadata": {},
   "source": [
    "Let $x$ and $y$ be the two numbers we want. To eliminate the symmetric solutions, we assume $x \\leq y$.\n",
    "\n",
    "Let $P = xy$, $S = x + y$, and $D = x - y$."
   ]
  },
  {
   "cell_type": "markdown",
   "metadata": {},
   "source": [
    "Since Paupla doesn't know the number, there should be at least 2 possible $(x,y)$ that can produce $P$. Let's find the set of possible products."
   ]
  },
  {
   "cell_type": "code",
   "execution_count": 1,
   "metadata": {},
   "outputs": [],
   "source": [
    "import collections"
   ]
  },
  {
   "cell_type": "code",
   "execution_count": 2,
   "metadata": {},
   "outputs": [
    {
     "name": "stdout",
     "output_type": "stream",
     "text": [
      "103360\n",
      "144723\n"
     ]
    }
   ],
   "source": [
    "possible_products = set()\n",
    "impossible_products = set()\n",
    "\n",
    "temp_m = collections.defaultdict(int)\n",
    "for x in range(1, 1001):\n",
    "    for y in range(x, 1001):\n",
    "        temp_m[x*y] += 1\n",
    "        \n",
    "for prod in temp_m.keys():\n",
    "    if temp_m[prod] >= 2:\n",
    "        possible_products.add(prod)\n",
    "    if temp_m[prod] == 1:\n",
    "        impossible_products.add(prod)\n",
    "\n",
    "print(len(possible_products))\n",
    "print(len(impossible_products))"
   ]
  },
  {
   "cell_type": "markdown",
   "metadata": {},
   "source": [
    "Since Sue already knows from $S$ that Paupla doesn't know the two numbers, every combination of $x$ and $y$ that sums to $S$ cannot give a product that can uniquely tells Paula what $x$ and $y$ are. Based on this, we will search for the possible sums."
   ]
  },
  {
   "cell_type": "code",
   "execution_count": 3,
   "metadata": {},
   "outputs": [
    {
     "name": "stdout",
     "output_type": "stream",
     "text": [
      "235\n",
      "1764\n"
     ]
    }
   ],
   "source": [
    "possible_sums = set()\n",
    "impossible_sums = set()\n",
    "\n",
    "for s in range(2, 2001):\n",
    "    possible = True\n",
    "    for x in range(1, s):\n",
    "        y = s - x\n",
    "        if x*y in impossible_products:\n",
    "            possible = False\n",
    "            break\n",
    "    if possible:\n",
    "        possible_sums.add(s)\n",
    "    else:\n",
    "        impossible_sums.add(s)\n",
    "\n",
    "print(len(possible_sums))\n",
    "print(len(impossible_sums))"
   ]
  },
  {
   "cell_type": "markdown",
   "metadata": {},
   "source": [
    "Since Paula can deduce $(x,y)$ from knowing that every combination of $x$ and $y$ that sums to $S$ cannot give a unique product, there must be only one possible $S$ where $P$ is possible and $P$ is not unique. Let's search for this $P$ and $S$."
   ]
  },
  {
   "cell_type": "code",
   "execution_count": 4,
   "metadata": {},
   "outputs": [],
   "source": [
    "p_s_possibility = set()\n",
    "for x in range(1, 1001):\n",
    "    for y in range(x, 1001):\n",
    "        p_s_possibility.add((x*y, x+y))"
   ]
  },
  {
   "cell_type": "code",
   "execution_count": 5,
   "metadata": {},
   "outputs": [
    {
     "name": "stdout",
     "output_type": "stream",
     "text": [
      "6984\n"
     ]
    }
   ],
   "source": [
    "nice_ps = []\n",
    "\n",
    "for p in possible_products:\n",
    "    count = 0\n",
    "    nice_s = None\n",
    "    \n",
    "    for s in possible_sums:\n",
    "        if (p, s) in p_s_possibility:\n",
    "            count += 1\n",
    "            nice_s = s\n",
    "        \n",
    "    if count == 1:\n",
    "        nice_ps.append((p, nice_s))\n",
    "\n",
    "print(len(nice_ps))"
   ]
  },
  {
   "cell_type": "markdown",
   "metadata": {},
   "source": [
    "Since Sue can deduce $(x,y)$ from knowing that there must be only one possible $S$ where $P$ is possible and $P$ is not unique, we must also have that there must be only one possible $P$ where $S$ is possible. Let's search for $P$ and $S$ again with this new constraint."
   ]
  },
  {
   "cell_type": "markdown",
   "metadata": {},
   "source": [
    "We first can reduce the set of possible products and sums."
   ]
  },
  {
   "cell_type": "code",
   "execution_count": 6,
   "metadata": {},
   "outputs": [
    {
     "name": "stdout",
     "output_type": "stream",
     "text": [
      "6984\n",
      "215\n"
     ]
    }
   ],
   "source": [
    "possible_products = set()\n",
    "possible_sums = set()\n",
    "for p, s in nice_ps:\n",
    "    possible_products.add(p)\n",
    "    possible_sums.add(s)\n",
    "    \n",
    "print(len(possible_products))\n",
    "print(len(possible_sums))"
   ]
  },
  {
   "cell_type": "code",
   "execution_count": 7,
   "metadata": {},
   "outputs": [],
   "source": [
    "nice_ps = []\n",
    "for s in possible_sums:\n",
    "    count = 0\n",
    "    nice_p = None\n",
    "    \n",
    "    for p in possible_products:\n",
    "        if (p, s) in p_s_possibility:\n",
    "            count += 1\n",
    "            nice_p = p\n",
    "    \n",
    "    if count == 1:\n",
    "        nice_ps.append((nice_p, s))\n",
    "\n",
    "print(len(nice_ps))"
   ]
  },
  {
   "cell_type": "code",
   "execution_count": null,
   "metadata": {},
   "outputs": [],
   "source": []
  }
 ],
 "metadata": {
  "kernelspec": {
   "display_name": "Python 3",
   "language": "python",
   "name": "python3"
  },
  "language_info": {
   "codemirror_mode": {
    "name": "ipython",
    "version": 3
   },
   "file_extension": ".py",
   "mimetype": "text/x-python",
   "name": "python",
   "nbconvert_exporter": "python",
   "pygments_lexer": "ipython3",
   "version": "3.8.5"
  }
 },
 "nbformat": 4,
 "nbformat_minor": 4
}
